{
 "cells": [
  {
   "cell_type": "markdown",
   "metadata": {},
   "source": [
    "Центр непрерывного образования\n",
    "\n",
    "# Программа «Python для автоматизации и анализа данных»\n",
    "\n",
    "# Задачки на регулярные выражения"
   ]
  },
  {
   "cell_type": "markdown",
   "metadata": {},
   "source": [
    "### Задачка про аббревиатуры\n",
    "Владимир устроился на работу в одно очень важное место. И в первом же документе он ничего не понял, \n",
    "там были сплошные ФГУП НИЦ ГИДГЕО, ФГОУ ЧШУ АПК и т.п. Тогда он решил собрать все аббревиатуры, чтобы потом найти их расшифровки на http://sokr.ru/. Помогите ему.\n",
    "Будем считать аббревиатурой слова только лишь из заглавных букв (как минимум из двух). Если несколько таких слов разделены пробелами, то они \n",
    "считаются одной аббревиатурой."
   ]
  },
  {
   "cell_type": "markdown",
   "metadata": {},
   "source": [
    "**Ввод**: Это курс информатики соответствует ФГОС и ПООП, это подтверждено ФГУ ФНЦ НИИСИ РАН\\\n",
    "**Вывод**: ФГОС, ПООП, ФГУ ФНЦ НИИСИ РАН"
   ]
  },
  {
   "cell_type": "code",
   "execution_count": 14,
   "metadata": {},
   "outputs": [
    {
     "name": "stdout",
     "output_type": "stream",
     "text": [
      "Это курс информатики соответствует ФГОС и ПООП, это подтверждено ФГУ ФНЦ НИИСИ РАН\n"
     ]
    },
    {
     "data": {
      "text/plain": [
       "['ФГОС', 'ПООП', 'ФГУ ФНЦ НИИСИ РАН']"
      ]
     },
     "execution_count": 14,
     "metadata": {},
     "output_type": "execute_result"
    }
   ],
   "source": [
    "import re\n",
    "# Ваше решение\n",
    "s = 'Это курс информатики соответствует ФГОС и ПООП, это подтверждено ФГУ ФНЦ НИИСИ РАН'\n",
    "regexp = r'\\b[A-ZА-ЯЁ]{2,}\\b(?: +\\b[A-ZА-ЯЁ]{2,}\\b)*'\n",
    "re.findall(regexp, input())"
   ]
  },
  {
   "cell_type": "markdown",
   "metadata": {},
   "source": [
    "### Задачка про перевод из camel_case'a в snake_case"
   ]
  },
  {
   "cell_type": "markdown",
   "metadata": {},
   "source": [
    "Мы уже довольно много говорили про то, что в компаниях могут быть конвенции по обозначению переменных. Что, если вы написали код, а в нем переменные названы в Camel Case а вам требуется snake case? Пожалуй, стоит автоматизировать этот процесс. Попробуем написать функцию, которая этот функционал реализует"
   ]
  },
  {
   "cell_type": "code",
   "execution_count": 2,
   "metadata": {},
   "outputs": [
    {
     "name": "stdout",
     "output_type": "stream",
     "text": [
      "camelCaseVar\n",
      "camel_case_var\n"
     ]
    }
   ],
   "source": [
    "# Camel case to snake case\n",
    "\n",
    "# Предполагаю, что первый символ имени переменной на входе \n",
    "# не может быть заглавной буквой (по PEP8). Поэтому проверку\n",
    "# регистра первого символа не делаю.\n",
    "\n",
    "v = 'camelCaseVar'\n",
    "import re\n",
    "print(re.sub(r'[A-Z]', lambda x: '_' + x.group(0).lower(), input()))"
   ]
  },
  {
   "cell_type": "markdown",
   "metadata": {},
   "source": [
    "### Задачка про подсчет количества слов"
   ]
  },
  {
   "cell_type": "markdown",
   "metadata": {},
   "source": [
    "Слова у нас могут состоять из букв или букв, стоящих вокруг дефиса (во-первых, чуть-чуть, давай-ка). Вывести список слов."
   ]
  },
  {
   "cell_type": "code",
   "execution_count": 18,
   "metadata": {},
   "outputs": [],
   "source": [
    "text = '''\n",
    "                    - Дельный, что и говорить,\n",
    "                      Был старик тот самый,\n",
    "                      Что придумал суп варить\n",
    "                      На колесах прямо.\n",
    "                      Суп - во-первых. Во-вторых,\n",
    "                      Кашу в норме прочной.\n",
    "                      Нет, старик он был старик\n",
    "                      Чуткий - это точно.\n",
    "'''"
   ]
  },
  {
   "cell_type": "code",
   "execution_count": 25,
   "metadata": {},
   "outputs": [
    {
     "name": "stdout",
     "output_type": "stream",
     "text": [
      "                     - Дельный, что и говорить,                       Был старик тот самый,                       Что придумал суп варить                       На колесах прямо.                       Суп - во-первых. Во-вторых,                       Кашу в норме прочной.                       Нет, старик он был старик                       Чуткий - это точно.\n",
      "['Дельный', 'что', 'и', 'говорить', 'Был', 'старик', 'тот', 'самый', 'Что', 'придумал', 'суп', 'варить', 'На', 'колесах', 'прямо', 'Суп', 'во-первых', 'Во-вторых', 'Кашу', 'в', 'норме', 'прочной', 'Нет', 'старик', 'он', 'был', 'старик', 'Чуткий', 'это', 'точно']\n"
     ]
    }
   ],
   "source": [
    "import re\n",
    "regexp = r'\\b[а-яА-ЯёЁa-zA-Z-]+\\b'\n",
    "print(re.findall(regexp, input()))"
   ]
  },
  {
   "cell_type": "markdown",
   "metadata": {},
   "source": [
    "### Задачка про поиск слов на а и на е"
   ]
  },
  {
   "cell_type": "markdown",
   "metadata": {},
   "source": [
    "Найдите в тексте слова, начинающиеся на а и на е"
   ]
  },
  {
   "cell_type": "code",
   "execution_count": 3,
   "metadata": {},
   "outputs": [
    {
     "name": "stdout",
     "output_type": "stream",
     "text": [
      "The following example creates an ArrayList with a capacity of 50 elements.\\         Four elements are then added to the ArrayList and the ArrayList is trimmed accordingly.\n",
      "['example', 'an', 'ArrayList', 'a', 'elements', 'elements', 'are', 'added', 'ArrayList', 'and', 'ArrayList', 'accordingly']\n"
     ]
    }
   ],
   "source": [
    "import re\n",
    "# В условии не указано важен ли регистр первых букв.\n",
    "# Регулярное выражение строится без учета регистра.\n",
    "text = \"The following example creates an ArrayList with a capacity of 50 elements.\\\n",
    "        Four elements are then added to the ArrayList and the ArrayList is trimmed accordingly.\"\n",
    "regexp = r'\\b[aeAE][a-zA-Z]*\\b'\n",
    "print(re.findall(regexp, input()))"
   ]
  },
  {
   "cell_type": "markdown",
   "metadata": {},
   "source": [
    "**Пример 2**\n",
    "\n",
    "Найдите в тексте слова, начинающиеся на а и на е"
   ]
  },
  {
   "cell_type": "code",
   "execution_count": 4,
   "metadata": {},
   "outputs": [
    {
     "name": "stdout",
     "output_type": "stream",
     "text": [
      "Für den folgenden Bericht gibt es einige Neben- und  drei Hauptquellen, die hier am Anfang einmal genannt, dann aber nicht mehr erwähnt werden. Die  Hauptquellen: Vernehmungsprotokolle der Polizeibehörde, Rechtsanwalt Dr. Hubert Bloma, sowie  dessen Schul- und Studienfreund, der Staatsanwalt Peter  Hach, der - vertraulich, versteht sich - die Vernehmungsprotokolle, gewisse Maßnahmen der  Untersuchungsbehörde und Ergebnisse von Recherchen, soweit sie nicht in den Protokollen auftauchten,  ergänzte;\n",
      "['es', 'einige', 'am', 'Anfang', 'einmal', 'aber', 'Ergebnisse', 'auftauchten']\n"
     ]
    }
   ],
   "source": [
    "import re\n",
    "# Input.\n",
    "text = '''\n",
    "        Für den folgenden Bericht gibt es einige Neben- und \n",
    "drei Hauptquellen, die hier am Anfang einmal genannt, dann aber nicht mehr erwähnt werden. Die \n",
    "Hauptquellen: Vernehmungsprotokolle der Polizeibehörde, Rechtsanwalt Dr. Hubert Bloma, sowie \n",
    "dessen Schul- und Studienfreund, der Staatsanwalt Peter \n",
    "Hach, der - vertraulich, versteht sich - die Vernehmungsprotokolle, gewisse Maßnahmen der \n",
    "Untersuchungsbehörde und Ergebnisse von Recherchen, soweit sie nicht in den Protokollen auftauchten, \n",
    "ergänzte;\n",
    "        '''\n",
    "print(re.findall(regexp, input()))"
   ]
  },
  {
   "cell_type": "markdown",
   "metadata": {},
   "source": [
    "### Давайте разберем реальный пример\n",
    "\n",
    "Возьмем перевод книги Идиот, вытащим оттуда текст первой главы, после чего посчитаем количество вхождений слова the. Ссылка 'https://www.gutenberg.org/files/2638/2638-0.txt'\n",
    "\n",
    "Заметьте, что the может быть частью слова! надо достать именно **слово the**"
   ]
  },
  {
   "cell_type": "code",
   "execution_count": 8,
   "metadata": {},
   "outputs": [
    {
     "data": {
      "text/plain": [
       "187"
      ]
     },
     "execution_count": 8,
     "metadata": {},
     "output_type": "execute_result"
    }
   ],
   "source": [
    "import re\n",
    "import requests\n",
    "\n",
    "the_idiot_url = 'https://www.gutenberg.org/files/2638/2638-0.txt'\n",
    "raw = requests.get(the_idiot_url).text\n",
    "\n",
    "# Индекс начала первой главы\n",
    "start = re.search(r'START OF THE PROJECT GUTENBERG EBOOK THE IDIOT', raw).end()\n",
    "\n",
    "# Индекс конца первой главы\n",
    "end = re.search(r'II\\.', raw).start()\n",
    "\n",
    "# Cчитаем число вхождений артикаля the (без учета регистра) в первую главу\n",
    "len(re.findall(r'\\b[Tt][Hh][Ee]\\b', raw[start:end]))"
   ]
  },
  {
   "cell_type": "markdown",
   "metadata": {},
   "source": [
    "## Про время (гуглить)\n",
    "Вовочка подготовил одно очень важное письмо, но везде указал неправильное время. \n",
    "Поэтому нужно заменить все вхождения времени на строку (TBD). Время — это строка вида HH:MM:SS или HH:MM, в которой HH — число от 00 до 23, а MM и SS — число от 00 до 59."
   ]
  },
  {
   "cell_type": "markdown",
   "metadata": {},
   "source": [
    "Ввод:\n",
    "\n",
    "    Уважаемые! Если вы к 09:00 не вернёте \n",
    "    чемодан, то уже в 09:00:01 я за себя не отвечаю. \n",
    "    PS. С отношением 25:50 всё нормально!\n",
    "    \n",
    "Вывод:\n",
    "\n",
    "    Уважаемые! Если вы к (TBD) не вернёте \n",
    "    чемодан, то уже в (TBD) я за себя не отвечаю. \n",
    "    PS. С отношением 25:50 всё нормально!"
   ]
  },
  {
   "cell_type": "code",
   "execution_count": 58,
   "metadata": {},
   "outputs": [
    {
     "name": "stdout",
     "output_type": "stream",
     "text": [
      "Уважаемые! Если вы к 09:00 не вернёте  чемодан, то уже в 09:00:01 я за себя не отвечаю.  PS. С отношением 25:50 всё нормально!\n",
      "Уважаемые! Если вы к (TBD) не вернёте  чемодан, то уже в (TBD) я за себя не отвечаю.  PS. С отношением 25:50 всё нормально!\n"
     ]
    }
   ],
   "source": [
    "inp = \"\"\"Уважаемые! Если вы к 09:00 не вернёте \n",
    "чемодан, то уже в 09:00:01 я за себя не отвечаю. \n",
    "PS. С отношением 25:50 всё нормально!\"\"\"\n",
    "\n",
    "def repl(match):\n",
    "    string = match.group(0)\n",
    "    length = len(string)\n",
    "    \n",
    "    if length == 5:\n",
    "        hh, mm = map(int, string.split(':'))\n",
    "        return '(TBD)' if 0 <= hh <= 23 and 0 <= mm <= 59 else string\n",
    "    elif length == 8:\n",
    "        hh, mm, ss = map(int, string.split(':'))\n",
    "        return '(TBD)' if 0 <= hh <= 23 and 0 <= mm <= 59 and 0 <= ss <= 59 else string\n",
    "    \n",
    "    print('Unexpected length of match!')\n",
    "    return string\n",
    "        \n",
    "    \n",
    "\n",
    "print(re.sub(r'\\b\\d\\d(?::\\d\\d){1,2}\\b', repl, input()))"
   ]
  },
  {
   "cell_type": "markdown",
   "metadata": {},
   "source": [
    "## Про финансовую отчетность (гуглить)\n",
    "\n",
    "Владимиру потребовалось срочно запутать финансовую документацию. Но так, чтобы это было обратимо. \n",
    "Он не придумал ничего лучше, чем заменить каждое целое число (непрерывную последовательность цифр) на его куб. Помогите ему.\n",
    "\n",
    "Ввод:\n",
    "\n",
    "    Было закуплено 12 единиц техники \n",
    "    по 410.37 рублей.\n",
    "    \n",
    "Вывод:\n",
    "\n",
    "    Было закуплено 1728 единиц техники \n",
    "    по 68921000.50653 рублей."
   ]
  },
  {
   "cell_type": "code",
   "execution_count": 78,
   "metadata": {},
   "outputs": [
    {
     "name": "stdout",
     "output_type": "stream",
     "text": [
      "Было закуплено 12 единиц техники  по 410.37 рублей.\n",
      "Было закуплено 1728 единиц техники  по 68921000.50653 рублей.\n"
     ]
    }
   ],
   "source": [
    "import re\n",
    "doc = '''Было закуплено 12 единиц техники \n",
    "по 410.37 рублей.'''\n",
    "\n",
    "print(re.sub(r'[\\d]+', lambda x: str(int(x.group(0)) ** 3), input()))"
   ]
  },
  {
   "cell_type": "code",
   "execution_count": null,
   "metadata": {},
   "outputs": [],
   "source": []
  }
 ],
 "metadata": {
  "kernelspec": {
   "display_name": "Python 3 (ipykernel)",
   "language": "python",
   "name": "python3"
  },
  "language_info": {
   "codemirror_mode": {
    "name": "ipython",
    "version": 3
   },
   "file_extension": ".py",
   "mimetype": "text/x-python",
   "name": "python",
   "nbconvert_exporter": "python",
   "pygments_lexer": "ipython3",
   "version": "3.9.13"
  }
 },
 "nbformat": 4,
 "nbformat_minor": 2
}
